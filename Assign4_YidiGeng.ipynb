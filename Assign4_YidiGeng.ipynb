{
 "cells": [
  {
   "cell_type": "code",
   "execution_count": 5,
   "id": "5b7e0541",
   "metadata": {},
   "outputs": [],
   "source": [
    "from pathlib import Path\n",
    "\n",
    "import collections\n",
    "import pandas as pd\n",
    "import numpy as np\n",
    "import networkx as nx\n",
    "import matplotlib.pyplot as plt\n",
    "import operator\n",
    "%matplotlib inline"
   ]
  },
  {
   "cell_type": "markdown",
   "id": "8092cd75",
   "metadata": {},
   "source": [
    "# Describing a Network "
   ]
  },
  {
   "cell_type": "markdown",
   "id": "c45c2e3b",
   "metadata": {},
   "source": [
    "1.\tProduce a network plot for this network"
   ]
  },
  {
   "cell_type": "code",
   "execution_count": 6,
   "id": "b0479992",
   "metadata": {},
   "outputs": [],
   "source": [
    "G1=nx.Graph()\n",
    "G1.add_edge('A','B')\n",
    "G1.add_edge('A','C')\n",
    "G1.add_edge('B','C')\n",
    "G1.add_edge('C','D')\n",
    "G1.add_edge('D','E')"
   ]
  },
  {
   "cell_type": "code",
   "execution_count": 7,
   "id": "c714a064",
   "metadata": {},
   "outputs": [
    {
     "data": {
      "image/png": "[encoded data removed]",
      "text/plain": [
       "<Figure size 576x288 with 1 Axes>"
      ]
     },
     "metadata": {},
     "output_type": "display_data"
    }
   ],
   "source": [
    "plt.figure(figsize=(8,4))\n",
    "nx.draw_networkx(G1, font_color=\"#EB5600\", edgecolors=\"#EB5600\", node_color= \"#FFDCC8\", edge_color=\"#1A9988\")\n",
    "plt.show()"
   ]
  },
  {
   "cell_type": "markdown",
   "id": "9308787c",
   "metadata": {},
   "source": [
    "5.\tTabulate the degree distribution for this network. "
   ]
  },
  {
   "cell_type": "code",
   "execution_count": 8,
   "id": "c01f0d92",
   "metadata": {},
   "outputs": [
    {
     "name": "stdout",
     "output_type": "stream",
     "text": [
      "[2, 2, 3, 2, 1]\n"
     ]
    }
   ],
   "source": [
    "# Calculate degrees for each node\n",
    "degrees = [deg for node, deg in G1.degree()]\n",
    "print(degrees)"
   ]
  },
  {
   "cell_type": "code",
   "execution_count": 9,
   "id": "968c96aa",
   "metadata": {},
   "outputs": [],
   "source": [
    "# Count the frequency of each degree \n",
    "degree_counts = {}\n",
    "for degree in degrees:\n",
    "    if degree not in degree_counts:\n",
    "        degree_counts[degree] = 0\n",
    "    degree_counts[degree] += 1"
   ]
  },
  {
   "cell_type": "code",
   "execution_count": 10,
   "id": "13203b8d",
   "metadata": {},
   "outputs": [
    {
     "name": "stdout",
     "output_type": "stream",
     "text": [
      "Degree 2: 0.6\n",
      "Degree 3: 0.2\n",
      "Degree 1: 0.2\n"
     ]
    }
   ],
   "source": [
    "# Tabulate the degree distribution\n",
    "degree_distribution = {}\n",
    "for degree, count in degree_counts.items():\n",
    "    degree_distribution[degree] = count / len(G1.nodes())\n",
    "\n",
    "# Print the degree distribution\n",
    "for degree, freq in degree_distribution.items():\n",
    "    print(f'Degree {degree}: {freq}')"
   ]
  },
  {
   "cell_type": "markdown",
   "id": "e57d8e2b",
   "metadata": {},
   "source": [
    "7.\tCalculate the betweenness centrality for nodes A and C. "
   ]
  },
  {
   "cell_type": "code",
   "execution_count": 11,
   "id": "5eec38ac",
   "metadata": {},
   "outputs": [
    {
     "name": "stdout",
     "output_type": "stream",
     "text": [
      "Betweenness centrality for node A: 0.0\n",
      "Betweenness centrality for node C: 0.6667\n"
     ]
    }
   ],
   "source": [
    "betweenness_centrality = nx.betweenness_centrality(G1)\n",
    "\n",
    "print(f\"Betweenness centrality for node A: {betweenness_centrality['A']:}\")\n",
    "print(f\"Betweenness centrality for node C: {betweenness_centrality['C']:.4f}\")"
   ]
  },
  {
   "cell_type": "code",
   "execution_count": 12,
   "id": "6f037ec9",
   "metadata": {},
   "outputs": [],
   "source": [
    "# Betweenness centrality is a measure of the importance of a node within a network. It quantifies the extent to which a node acts as a bridge along the shortest paths between other nodes in the network. In other words, it measures how often a node appears on the shortest paths between pairs of nodes in the network. "
   ]
  },
  {
   "cell_type": "markdown",
   "id": "296e91ca",
   "metadata": {},
   "source": [
    "8.\tCalculate the density of the network. (1%)"
   ]
  },
  {
   "cell_type": "code",
   "execution_count": 13,
   "id": "8bd2b4c2",
   "metadata": {},
   "outputs": [
    {
     "data": {
      "text/plain": [
       "0.5"
      ]
     },
     "execution_count": 13,
     "metadata": {},
     "output_type": "execute_result"
    }
   ],
   "source": [
    "nx.density(G1)"
   ]
  },
  {
   "cell_type": "markdown",
   "id": "05c77317",
   "metadata": {},
   "source": [
    "# Network Density and Size "
   ]
  },
  {
   "cell_type": "markdown",
   "id": "4ab825cf",
   "metadata": {},
   "source": [
    "5.\tTabulate the degree distribution for this network."
   ]
  },
  {
   "cell_type": "code",
   "execution_count": 14,
   "id": "52ddb70c",
   "metadata": {},
   "outputs": [],
   "source": [
    "G1=nx.Graph()\n",
    "G1.add_edge('A','B')\n",
    "G1.add_edge('A','C')\n",
    "G1.add_edge('B','C')\n",
    "G1.add_edge('C','D')\n",
    "G1.add_edge('D','E')\n",
    "G1.add_edge('A','F')\n",
    "G1.add_edge('B','F')\n",
    "G1.add_edge('A','G')\n",
    "G1.add_edge('B','G')"
   ]
  },
  {
   "cell_type": "code",
   "execution_count": 15,
   "id": "79e55f14",
   "metadata": {},
   "outputs": [
    {
     "name": "stdout",
     "output_type": "stream",
     "text": [
      "[4, 4, 3, 2, 1, 2, 2]\n"
     ]
    }
   ],
   "source": [
    "degrees = [deg for node, deg in G1.degree()]\n",
    "print(degrees)"
   ]
  },
  {
   "cell_type": "code",
   "execution_count": 16,
   "id": "60fb792a",
   "metadata": {},
   "outputs": [
    {
     "name": "stdout",
     "output_type": "stream",
     "text": [
      "Degree 4: 2\n",
      "Degree 3: 1\n",
      "Degree 2: 3\n",
      "Degree 1: 1\n"
     ]
    }
   ],
   "source": [
    "degreeCount = collections.Counter(d for node, d in G1.degree())\n",
    "for degree, freq in degreeCount.items():\n",
    "     print(f'Degree {degree}: {freq}')"
   ]
  },
  {
   "cell_type": "markdown",
   "id": "959932cb",
   "metadata": {},
   "source": [
    "# Network characteristics "
   ]
  },
  {
   "cell_type": "markdown",
   "id": "589737d8",
   "metadata": {},
   "source": [
    "1.\tCreate the network"
   ]
  },
  {
   "cell_type": "code",
   "execution_count": 17,
   "id": "7a3ce73e",
   "metadata": {},
   "outputs": [],
   "source": [
    "CMDF = pd.read_csv('classmates.csv', header=None)\n",
    "CMChar = pd.read_csv('classmatesChar.csv')"
   ]
  },
  {
   "cell_type": "code",
   "execution_count": 18,
   "id": "6bc38f3f",
   "metadata": {},
   "outputs": [
    {
     "data": {
      "text/html": [
       "<div>\n",
       "<style scoped>\n",
       "    .dataframe tbody tr th:only-of-type {\n",
       "        vertical-align: middle;\n",
       "    }\n",
       "\n",
       "    .dataframe tbody tr th {\n",
       "        vertical-align: top;\n",
       "    }\n",
       "\n",
       "    .dataframe thead th {\n",
       "        text-align: right;\n",
       "    }\n",
       "</style>\n",
       "<table border=\"1\" class=\"dataframe\">\n",
       "  <thead>\n",
       "    <tr style=\"text-align: right;\">\n",
       "      <th></th>\n",
       "      <th>0</th>\n",
       "      <th>1</th>\n",
       "      <th>2</th>\n",
       "      <th>3</th>\n",
       "      <th>4</th>\n",
       "      <th>5</th>\n",
       "      <th>6</th>\n",
       "      <th>7</th>\n",
       "      <th>8</th>\n",
       "      <th>9</th>\n",
       "      <th>...</th>\n",
       "      <th>15</th>\n",
       "      <th>16</th>\n",
       "      <th>17</th>\n",
       "      <th>18</th>\n",
       "      <th>19</th>\n",
       "      <th>20</th>\n",
       "      <th>21</th>\n",
       "      <th>22</th>\n",
       "      <th>23</th>\n",
       "      <th>24</th>\n",
       "    </tr>\n",
       "  </thead>\n",
       "  <tbody>\n",
       "    <tr>\n",
       "      <th>0</th>\n",
       "      <td>0</td>\n",
       "      <td>0</td>\n",
       "      <td>1</td>\n",
       "      <td>0</td>\n",
       "      <td>0</td>\n",
       "      <td>1</td>\n",
       "      <td>0</td>\n",
       "      <td>0</td>\n",
       "      <td>0</td>\n",
       "      <td>1</td>\n",
       "      <td>...</td>\n",
       "      <td>0</td>\n",
       "      <td>0</td>\n",
       "      <td>0</td>\n",
       "      <td>0</td>\n",
       "      <td>1</td>\n",
       "      <td>1</td>\n",
       "      <td>0</td>\n",
       "      <td>0</td>\n",
       "      <td>0</td>\n",
       "      <td>0</td>\n",
       "    </tr>\n",
       "    <tr>\n",
       "      <th>1</th>\n",
       "      <td>0</td>\n",
       "      <td>0</td>\n",
       "      <td>0</td>\n",
       "      <td>0</td>\n",
       "      <td>1</td>\n",
       "      <td>0</td>\n",
       "      <td>0</td>\n",
       "      <td>0</td>\n",
       "      <td>0</td>\n",
       "      <td>0</td>\n",
       "      <td>...</td>\n",
       "      <td>0</td>\n",
       "      <td>0</td>\n",
       "      <td>0</td>\n",
       "      <td>0</td>\n",
       "      <td>0</td>\n",
       "      <td>0</td>\n",
       "      <td>0</td>\n",
       "      <td>0</td>\n",
       "      <td>0</td>\n",
       "      <td>0</td>\n",
       "    </tr>\n",
       "    <tr>\n",
       "      <th>2</th>\n",
       "      <td>1</td>\n",
       "      <td>0</td>\n",
       "      <td>0</td>\n",
       "      <td>1</td>\n",
       "      <td>0</td>\n",
       "      <td>1</td>\n",
       "      <td>0</td>\n",
       "      <td>1</td>\n",
       "      <td>0</td>\n",
       "      <td>1</td>\n",
       "      <td>...</td>\n",
       "      <td>0</td>\n",
       "      <td>0</td>\n",
       "      <td>0</td>\n",
       "      <td>0</td>\n",
       "      <td>1</td>\n",
       "      <td>1</td>\n",
       "      <td>0</td>\n",
       "      <td>0</td>\n",
       "      <td>0</td>\n",
       "      <td>0</td>\n",
       "    </tr>\n",
       "    <tr>\n",
       "      <th>3</th>\n",
       "      <td>0</td>\n",
       "      <td>0</td>\n",
       "      <td>1</td>\n",
       "      <td>0</td>\n",
       "      <td>1</td>\n",
       "      <td>0</td>\n",
       "      <td>0</td>\n",
       "      <td>1</td>\n",
       "      <td>0</td>\n",
       "      <td>1</td>\n",
       "      <td>...</td>\n",
       "      <td>0</td>\n",
       "      <td>1</td>\n",
       "      <td>0</td>\n",
       "      <td>0</td>\n",
       "      <td>1</td>\n",
       "      <td>0</td>\n",
       "      <td>0</td>\n",
       "      <td>0</td>\n",
       "      <td>0</td>\n",
       "      <td>0</td>\n",
       "    </tr>\n",
       "    <tr>\n",
       "      <th>4</th>\n",
       "      <td>0</td>\n",
       "      <td>1</td>\n",
       "      <td>0</td>\n",
       "      <td>1</td>\n",
       "      <td>0</td>\n",
       "      <td>1</td>\n",
       "      <td>0</td>\n",
       "      <td>0</td>\n",
       "      <td>0</td>\n",
       "      <td>0</td>\n",
       "      <td>...</td>\n",
       "      <td>0</td>\n",
       "      <td>0</td>\n",
       "      <td>0</td>\n",
       "      <td>0</td>\n",
       "      <td>0</td>\n",
       "      <td>0</td>\n",
       "      <td>0</td>\n",
       "      <td>0</td>\n",
       "      <td>0</td>\n",
       "      <td>0</td>\n",
       "    </tr>\n",
       "  </tbody>\n",
       "</table>\n",
       "<p>5 rows × 25 columns</p>\n",
       "</div>"
      ],
      "text/plain": [
       "   0   1   2   3   4   5   6   7   8   9   ...  15  16  17  18  19  20  21  \\\n",
       "0   0   0   1   0   0   1   0   0   0   1  ...   0   0   0   0   1   1   0   \n",
       "1   0   0   0   0   1   0   0   0   0   0  ...   0   0   0   0   0   0   0   \n",
       "2   1   0   0   1   0   1   0   1   0   1  ...   0   0   0   0   1   1   0   \n",
       "3   0   0   1   0   1   0   0   1   0   1  ...   0   1   0   0   1   0   0   \n",
       "4   0   1   0   1   0   1   0   0   0   0  ...   0   0   0   0   0   0   0   \n",
       "\n",
       "   22  23  24  \n",
       "0   0   0   0  \n",
       "1   0   0   0  \n",
       "2   0   0   0  \n",
       "3   0   0   0  \n",
       "4   0   0   0  \n",
       "\n",
       "[5 rows x 25 columns]"
      ]
     },
     "execution_count": 18,
     "metadata": {},
     "output_type": "execute_result"
    }
   ],
   "source": [
    "CMDF.head()"
   ]
  },
  {
   "cell_type": "code",
   "execution_count": 19,
   "id": "064640fe",
   "metadata": {},
   "outputs": [
    {
     "data": {
      "text/html": [
       "<div>\n",
       "<style scoped>\n",
       "    .dataframe tbody tr th:only-of-type {\n",
       "        vertical-align: middle;\n",
       "    }\n",
       "\n",
       "    .dataframe tbody tr th {\n",
       "        vertical-align: top;\n",
       "    }\n",
       "\n",
       "    .dataframe thead th {\n",
       "        text-align: right;\n",
       "    }\n",
       "</style>\n",
       "<table border=\"1\" class=\"dataframe\">\n",
       "  <thead>\n",
       "    <tr style=\"text-align: right;\">\n",
       "      <th></th>\n",
       "      <th>Name</th>\n",
       "      <th>Gender</th>\n",
       "      <th>Attendance</th>\n",
       "    </tr>\n",
       "  </thead>\n",
       "  <tbody>\n",
       "    <tr>\n",
       "      <th>0</th>\n",
       "      <td>Alex</td>\n",
       "      <td>1</td>\n",
       "      <td>12</td>\n",
       "    </tr>\n",
       "    <tr>\n",
       "      <th>1</th>\n",
       "      <td>Ben</td>\n",
       "      <td>0</td>\n",
       "      <td>6</td>\n",
       "    </tr>\n",
       "    <tr>\n",
       "      <th>2</th>\n",
       "      <td>Chloe</td>\n",
       "      <td>1</td>\n",
       "      <td>11</td>\n",
       "    </tr>\n",
       "    <tr>\n",
       "      <th>3</th>\n",
       "      <td>David</td>\n",
       "      <td>0</td>\n",
       "      <td>13</td>\n",
       "    </tr>\n",
       "    <tr>\n",
       "      <th>4</th>\n",
       "      <td>Emma</td>\n",
       "      <td>1</td>\n",
       "      <td>9</td>\n",
       "    </tr>\n",
       "  </tbody>\n",
       "</table>\n",
       "</div>"
      ],
      "text/plain": [
       "    Name  Gender  Attendance\n",
       "0   Alex       1          12\n",
       "1    Ben       0           6\n",
       "2  Chloe       1          11\n",
       "3  David       0          13\n",
       "4   Emma       1           9"
      ]
     },
     "execution_count": 19,
     "metadata": {},
     "output_type": "execute_result"
    }
   ],
   "source": [
    "CMChar.head()"
   ]
  },
  {
   "cell_type": "code",
   "execution_count": 20,
   "id": "adffa72a",
   "metadata": {},
   "outputs": [
    {
     "data": {
      "text/plain": [
       "array([[0, 0, 1, 0, 0, 1, 0, 0, 0, 1, 0, 0, 0, 1, 0, 0, 0, 0, 0, 1, 1, 0,\n",
       "        0, 0, 0],\n",
       "       [0, 0, 0, 0, 1, 0, 0, 0, 0, 0, 0, 0, 0, 0, 0, 0, 0, 0, 0, 0, 0, 0,\n",
       "        0, 0, 0],\n",
       "       [1, 0, 0, 1, 0, 1, 0, 1, 0, 1, 0, 0, 0, 1, 0, 0, 0, 0, 0, 1, 1, 0,\n",
       "        0, 0, 0],\n",
       "       [0, 0, 1, 0, 1, 0, 0, 1, 0, 1, 0, 0, 0, 1, 0, 0, 1, 0, 0, 1, 0, 0,\n",
       "        0, 0, 0],\n",
       "       [0, 1, 0, 1, 0, 1, 0, 0, 0, 0, 0, 0, 0, 0, 0, 0, 0, 0, 0, 0, 0, 0,\n",
       "        0, 0, 0],\n",
       "       [1, 0, 1, 0, 1, 0, 0, 0, 0, 1, 0, 0, 0, 0, 0, 0, 0, 0, 0, 1, 0, 0,\n",
       "        0, 1, 0],\n",
       "       [0, 0, 0, 0, 0, 0, 0, 0, 1, 0, 1, 0, 0, 0, 0, 1, 1, 1, 0, 0, 0, 0,\n",
       "        1, 1, 1],\n",
       "       [0, 0, 1, 1, 0, 0, 0, 0, 0, 0, 0, 0, 0, 1, 0, 0, 0, 0, 0, 0, 0, 0,\n",
       "        0, 0, 0],\n",
       "       [0, 0, 0, 0, 0, 0, 1, 0, 0, 0, 0, 0, 0, 0, 1, 1, 0, 1, 0, 0, 0, 0,\n",
       "        0, 1, 0],\n",
       "       [1, 0, 1, 1, 0, 1, 0, 0, 0, 0, 0, 0, 0, 0, 0, 0, 0, 0, 0, 1, 0, 0,\n",
       "        0, 0, 0],\n",
       "       [0, 0, 0, 0, 0, 0, 1, 0, 0, 0, 0, 0, 0, 0, 0, 0, 0, 0, 0, 0, 1, 0,\n",
       "        0, 0, 1],\n",
       "       [0, 0, 0, 0, 0, 0, 0, 0, 0, 0, 0, 0, 1, 0, 0, 0, 0, 0, 0, 0, 0, 0,\n",
       "        0, 0, 0],\n",
       "       [0, 0, 0, 0, 0, 0, 0, 0, 0, 0, 0, 1, 0, 0, 0, 0, 1, 0, 0, 0, 0, 1,\n",
       "        0, 0, 0],\n",
       "       [1, 0, 1, 1, 0, 0, 0, 1, 0, 0, 0, 0, 0, 0, 0, 1, 0, 0, 0, 1, 1, 1,\n",
       "        1, 1, 1],\n",
       "       [0, 0, 0, 0, 0, 0, 0, 0, 1, 0, 0, 0, 0, 0, 0, 0, 1, 0, 0, 0, 0, 0,\n",
       "        0, 1, 0],\n",
       "       [0, 0, 0, 0, 0, 0, 1, 0, 1, 0, 0, 0, 0, 1, 0, 0, 1, 0, 0, 0, 0, 0,\n",
       "        1, 1, 1],\n",
       "       [0, 0, 0, 1, 0, 0, 1, 0, 0, 0, 0, 0, 1, 0, 1, 1, 0, 0, 0, 0, 0, 0,\n",
       "        1, 1, 1],\n",
       "       [0, 0, 0, 0, 0, 0, 1, 0, 1, 0, 0, 0, 0, 0, 0, 0, 0, 0, 0, 0, 0, 0,\n",
       "        0, 0, 0],\n",
       "       [0, 0, 0, 0, 0, 0, 0, 0, 0, 0, 0, 0, 0, 0, 0, 0, 0, 0, 0, 0, 0, 0,\n",
       "        1, 0, 1],\n",
       "       [1, 0, 1, 1, 0, 1, 0, 0, 0, 1, 0, 0, 0, 1, 0, 0, 0, 0, 0, 0, 1, 0,\n",
       "        0, 0, 0],\n",
       "       [1, 0, 1, 0, 0, 0, 0, 0, 0, 0, 1, 0, 0, 1, 0, 0, 0, 0, 0, 1, 0, 0,\n",
       "        0, 0, 0],\n",
       "       [0, 0, 0, 0, 0, 0, 0, 0, 0, 0, 0, 0, 1, 1, 0, 0, 0, 0, 0, 0, 0, 0,\n",
       "        0, 1, 0],\n",
       "       [0, 0, 0, 0, 0, 0, 1, 0, 0, 0, 0, 0, 0, 1, 0, 1, 1, 0, 1, 0, 0, 0,\n",
       "        0, 1, 1],\n",
       "       [0, 0, 0, 0, 0, 1, 1, 0, 1, 0, 0, 0, 0, 1, 1, 1, 1, 0, 0, 0, 0, 1,\n",
       "        1, 0, 1],\n",
       "       [0, 0, 0, 0, 0, 0, 1, 0, 0, 0, 1, 0, 0, 1, 0, 1, 1, 0, 1, 0, 0, 0,\n",
       "        1, 1, 0]])"
      ]
     },
     "execution_count": 20,
     "metadata": {},
     "output_type": "execute_result"
    }
   ],
   "source": [
    "CM = CMDF.to_numpy()\n",
    "CM"
   ]
  },
  {
   "cell_type": "code",
   "execution_count": 21,
   "id": "1913be3b",
   "metadata": {},
   "outputs": [],
   "source": [
    "G=nx.Graph(CM)"
   ]
  },
  {
   "cell_type": "code",
   "execution_count": 22,
   "id": "3d254459",
   "metadata": {},
   "outputs": [
    {
     "name": "stdout",
     "output_type": "stream",
     "text": [
      "{0: 12, 1: 6, 2: 11, 3: 13, 4: 9, 5: 11, 6: 12, 7: 8, 8: 13, 9: 8, 10: 12, 11: 7, 12: 7, 13: 13, 14: 10, 15: 11, 16: 11, 17: 9, 18: 8, 19: 10, 20: 7, 21: 10, 22: 11, 23: 12, 24: 9}\n",
      "{0: 1, 1: 0, 2: 1, 3: 0, 4: 1, 5: 0, 6: 1, 7: 0, 8: 1, 9: 0, 10: 0, 11: 1, 12: 0, 13: 1, 14: 0, 15: 1, 16: 0, 17: 1, 18: 1, 19: 1, 20: 1, 21: 0, 22: 0, 23: 0, 24: 1}\n",
      "{0: 'Alex', 1: 'Ben', 2: 'Chloe', 3: 'David', 4: 'Emma', 5: 'Frank', 6: 'Grace', 7: 'Hank', 8: 'Ivy', 9: 'Jim', 10: 'Kyle', 11: 'Leah', 12: 'Mike', 13: 'Nora', 14: 'Owen', 15: 'Pat', 16: 'Quinn', 17: 'Riley', 18: 'Stella', 19: 'Tessa', 20: 'Ursula', 21: 'Victor', 22: 'Ward', 23: 'Yves', 24: 'Zelda'}\n"
     ]
    }
   ],
   "source": [
    "Gender= CMChar[\"Gender\"].to_dict()\n",
    "Attendance = CMChar[\"Attendance\"].to_dict()\n",
    "Name = CMChar[\"Name\"].to_dict()\n",
    "print(Attendance)\n",
    "print(Gender)\n",
    "print(Name)\n"
   ]
  },
  {
   "cell_type": "code",
   "execution_count": 23,
   "id": "a03fe4c7",
   "metadata": {},
   "outputs": [],
   "source": [
    "nx.set_node_attributes(G, Gender , name=\"Gender\")\n",
    "nx.set_node_attributes(G, Attendance , name=\"Attendance\")"
   ]
  },
  {
   "cell_type": "code",
   "execution_count": 24,
   "id": "2d1ed781",
   "metadata": {},
   "outputs": [
    {
     "data": {
      "text/plain": [
       "NodeDataView({0: {'Gender': 1, 'Attendance': 12}, 1: {'Gender': 0, 'Attendance': 6}, 2: {'Gender': 1, 'Attendance': 11}, 3: {'Gender': 0, 'Attendance': 13}, 4: {'Gender': 1, 'Attendance': 9}, 5: {'Gender': 0, 'Attendance': 11}, 6: {'Gender': 1, 'Attendance': 12}, 7: {'Gender': 0, 'Attendance': 8}, 8: {'Gender': 1, 'Attendance': 13}, 9: {'Gender': 0, 'Attendance': 8}, 10: {'Gender': 0, 'Attendance': 12}, 11: {'Gender': 1, 'Attendance': 7}, 12: {'Gender': 0, 'Attendance': 7}, 13: {'Gender': 1, 'Attendance': 13}, 14: {'Gender': 0, 'Attendance': 10}, 15: {'Gender': 1, 'Attendance': 11}, 16: {'Gender': 0, 'Attendance': 11}, 17: {'Gender': 1, 'Attendance': 9}, 18: {'Gender': 1, 'Attendance': 8}, 19: {'Gender': 1, 'Attendance': 10}, 20: {'Gender': 1, 'Attendance': 7}, 21: {'Gender': 0, 'Attendance': 10}, 22: {'Gender': 0, 'Attendance': 11}, 23: {'Gender': 0, 'Attendance': 12}, 24: {'Gender': 1, 'Attendance': 9}})"
      ]
     },
     "execution_count": 24,
     "metadata": {},
     "output_type": "execute_result"
    }
   ],
   "source": [
    "G.nodes(data=True)"
   ]
  },
  {
   "cell_type": "code",
   "execution_count": 25,
   "id": "1747655c",
   "metadata": {},
   "outputs": [
    {
     "data": {
      "text/plain": [
       "NodeDataView({'Alex': {'Gender': 1, 'Attendance': 12}, 'Ben': {'Gender': 0, 'Attendance': 6}, 'Chloe': {'Gender': 1, 'Attendance': 11}, 'David': {'Gender': 0, 'Attendance': 13}, 'Emma': {'Gender': 1, 'Attendance': 9}, 'Frank': {'Gender': 0, 'Attendance': 11}, 'Grace': {'Gender': 1, 'Attendance': 12}, 'Hank': {'Gender': 0, 'Attendance': 8}, 'Ivy': {'Gender': 1, 'Attendance': 13}, 'Jim': {'Gender': 0, 'Attendance': 8}, 'Kyle': {'Gender': 0, 'Attendance': 12}, 'Leah': {'Gender': 1, 'Attendance': 7}, 'Mike': {'Gender': 0, 'Attendance': 7}, 'Nora': {'Gender': 1, 'Attendance': 13}, 'Owen': {'Gender': 0, 'Attendance': 10}, 'Pat': {'Gender': 1, 'Attendance': 11}, 'Quinn': {'Gender': 0, 'Attendance': 11}, 'Riley': {'Gender': 1, 'Attendance': 9}, 'Stella': {'Gender': 1, 'Attendance': 8}, 'Tessa': {'Gender': 1, 'Attendance': 10}, 'Ursula': {'Gender': 1, 'Attendance': 7}, 'Victor': {'Gender': 0, 'Attendance': 10}, 'Ward': {'Gender': 0, 'Attendance': 11}, 'Yves': {'Gender': 0, 'Attendance': 12}, 'Zelda': {'Gender': 1, 'Attendance': 9}})"
      ]
     },
     "execution_count": 25,
     "metadata": {},
     "output_type": "execute_result"
    }
   ],
   "source": [
    "G=nx.relabel_nodes(G,Name)\n",
    "G.nodes(data=True)"
   ]
  },
  {
   "cell_type": "code",
   "execution_count": 26,
   "id": "7636f69f",
   "metadata": {},
   "outputs": [],
   "source": [
    "node_colors = []\n",
    "\n",
    "for node, data in G.nodes(data=True):\n",
    "    if data['Gender'] == 0 :\n",
    "        node_colors.append('blue')\n",
    "    else:\n",
    "        node_colors.append('red')\n",
    "\n",
    "node_sizes = [data['Attendance'] * 200 for node, data in G.nodes(data=True)]"
   ]
  },
  {
   "cell_type": "code",
   "execution_count": 27,
   "id": "6e797ea4",
   "metadata": {},
   "outputs": [
    {
     "data": {
      "image/png": "[encoded data removed]",
      "text/plain": [
       "<Figure size 1000x1000 with 1 Axes>"
      ]
     },
     "metadata": {},
     "output_type": "display_data"
    }
   ],
   "source": [
    "plt.figure(figsize=(10,10), dpi=100)\n",
    "\n",
    "nx.draw_networkx(G, with_labels=True, node_color=node_colors, node_size=node_sizes, font_color='white', font_size = 8)\n",
    "plt.show()"
   ]
  },
  {
   "cell_type": "markdown",
   "id": "c6fc9378",
   "metadata": {},
   "source": [
    "2.\tWhat is the density of the network? "
   ]
  },
  {
   "cell_type": "code",
   "execution_count": 28,
   "id": "66f2b503",
   "metadata": {},
   "outputs": [
    {
     "data": {
      "text/plain": [
       "0.22"
      ]
     },
     "execution_count": 28,
     "metadata": {},
     "output_type": "execute_result"
    }
   ],
   "source": [
    "nx.density(G)"
   ]
  },
  {
   "cell_type": "markdown",
   "id": "1681c346",
   "metadata": {},
   "source": [
    "3.\tWhat is the transitivity of the network"
   ]
  },
  {
   "cell_type": "code",
   "execution_count": 29,
   "id": "7ed3393c",
   "metadata": {},
   "outputs": [
    {
     "data": {
      "text/plain": [
       "0.4946808510638298"
      ]
     },
     "execution_count": 29,
     "metadata": {},
     "output_type": "execute_result"
    }
   ],
   "source": [
    "nx.transitivity(G)"
   ]
  },
  {
   "cell_type": "markdown",
   "id": "bba63e3b",
   "metadata": {},
   "source": [
    "4.\tWho are the top five most and the bottom five least popular people in the class? "
   ]
  },
  {
   "cell_type": "code",
   "execution_count": 30,
   "id": "dd9a036d",
   "metadata": {},
   "outputs": [
    {
     "name": "stdout",
     "output_type": "stream",
     "text": [
      "Top 5 most popular people: ['Nora', 'Yves', 'Chloe', 'Grace', 'Quinn']\n",
      "Bottom 5 least popular people: ['Ben', 'Leah', 'Riley', 'Stella', 'Emma']\n"
     ]
    }
   ],
   "source": [
    "degree_centrality = nx.degree_centrality(G)\n",
    "\n",
    "# Sort the degree centrality in descending order to find the top five most popular people\n",
    "most_popular = sorted(degree_centrality.items(), key=lambda x: x[1], reverse=True)[:5]\n",
    "\n",
    "# Sort the degree centrality in ascending order to find the bottom five least popular people\n",
    "least_popular = sorted(degree_centrality.items(), key=lambda x: x[1], reverse=False)[:5]\n",
    "\n",
    "print(\"Top 5 most popular people:\", [x[0] for x in most_popular])\n",
    "print(\"Bottom 5 least popular people:\", [x[0] for x in least_popular])"
   ]
  },
  {
   "cell_type": "markdown",
   "id": "09749d1b",
   "metadata": {},
   "source": [
    "5.\tWho are the top five people that could introduce students to one another? "
   ]
  },
  {
   "cell_type": "code",
   "execution_count": 31,
   "id": "269d47b3",
   "metadata": {},
   "outputs": [
    {
     "data": {
      "text/plain": [
       "[('Nora', 0.23378531693749083),\n",
       " ('Yves', 0.17904066545370897),\n",
       " ('Quinn', 0.17883650166258858),\n",
       " ('David', 0.14497798899972814),\n",
       " ('Frank', 0.09889422172030869)]"
      ]
     },
     "execution_count": 31,
     "metadata": {},
     "output_type": "execute_result"
    }
   ],
   "source": [
    "GBCNode = nx.betweenness_centrality(G, normalized = True, endpoints = False)\n",
    "sorted(GBCNode.items(), key=operator.itemgetter(1), reverse = True)[:5]"
   ]
  },
  {
   "cell_type": "markdown",
   "id": "88f97c4c",
   "metadata": {},
   "source": [
    "6.\tBen wants to ask Riley out. However, he wants to know her better first. Who are the people that can introduce Ben to Riley? With what sequences? "
   ]
  },
  {
   "cell_type": "code",
   "execution_count": 33,
   "id": "8ef97da5",
   "metadata": {},
   "outputs": [
    {
     "name": "stdout",
     "output_type": "stream",
     "text": [
      "['Ben', 'Emma', 'David', 'Quinn', 'Grace', 'Riley']\n"
     ]
    }
   ],
   "source": [
    "# Find the shortest path between Ben and Riley\n",
    "shortest_path = nx.shortest_path(G, source='Ben', target='Riley')\n",
    "print(shortest_path)"
   ]
  },
  {
   "cell_type": "markdown",
   "id": "95127ede",
   "metadata": {},
   "source": [
    "8.\tWhat is the maximum number of people between two students that are not friends? "
   ]
  },
  {
   "cell_type": "code",
   "execution_count": 34,
   "id": "b8ec3948",
   "metadata": {},
   "outputs": [
    {
     "name": "stdout",
     "output_type": "stream",
     "text": [
      "The longest path is: Ben -> Emma -> David -> Quinn -> Grace -> Kyle\n",
      "The maximum number of people between two students: 4\n"
     ]
    }
   ],
   "source": [
    "# Initialize the longest path and its length\n",
    "longest_path = []\n",
    "longest_path_length = 0\n",
    "\n",
    "# Iterate over all pairs of nodes in the graph\n",
    "for source in G.nodes():\n",
    "    for target in G.nodes():\n",
    "        if source != target:\n",
    "            try:\n",
    "                # Find the shortest path between the two nodes\n",
    "                path = nx.shortest_path(G, source=source, target=target)\n",
    "\n",
    "                # If the path is longer than the current longest path, update the longest path and its length\n",
    "                if len(path) > longest_path_length:\n",
    "                    longest_path = path\n",
    "                    longest_path_length = len(path)\n",
    "            except nx.NetworkXNoPath:\n",
    "                pass  # No path exists between the two nodes, so we skip this pair\n",
    "\n",
    "# Print the longest path and its length\n",
    "print(f\"The longest path is: {' -> '.join(longest_path)}\")\n",
    "print(f\"The maximum number of people between two students: {longest_path_length - 2}\")"
   ]
  },
  {
   "cell_type": "markdown",
   "id": "2d5cfcfe",
   "metadata": {},
   "source": [
    "9.\tWho are the people who hang out the most? "
   ]
  },
  {
   "cell_type": "code",
   "execution_count": 35,
   "id": "527486f6",
   "metadata": {},
   "outputs": [
    {
     "data": {
      "text/plain": [
       "[(('David', 'Quinn'), 0.11723328523328522),\n",
       " (('Frank', 'Yves'), 0.11466450216450215),\n",
       " (('Mike', 'Quinn'), 0.11033333333333334),\n",
       " (('David', 'Emma'), 0.08780303030303033),\n",
       " (('Ben', 'Emma'), 0.08),\n",
       " (('Leah', 'Mike'), 0.08),\n",
       " (('Nora', 'Victor'), 0.06766666666666667),\n",
       " (('Emma', 'Frank'), 0.0671969696969697),\n",
       " (('Grace', 'Riley'), 0.05815873015873016),\n",
       " (('Nora', 'Zelda'), 0.0507012987012987),\n",
       " (('Ivy', 'Yves'), 0.05049470899470899),\n",
       " (('Grace', 'Quinn'), 0.0487938912938913),\n",
       " (('Nora', 'Ward'), 0.0475952380952381),\n",
       " (('Nora', 'Yves'), 0.046608465608465606),\n",
       " (('Mike', 'Victor'), 0.04633333333333334),\n",
       " (('Alex', 'Nora'), 0.045574074074074086),\n",
       " (('David', 'Nora'), 0.0455084175084175),\n",
       " (('Nora', 'Pat'), 0.044664021164021156),\n",
       " (('Hank', 'Nora'), 0.043857142857142865),\n",
       " (('Nora', 'Ursula'), 0.04329124579124579),\n",
       " (('Kyle', 'Ursula'), 0.042533189033189034),\n",
       " (('Stella', 'Zelda'), 0.042222222222222223),\n",
       " (('Victor', 'Yves'), 0.042),\n",
       " (('Owen', 'Yves'), 0.03966666666666666),\n",
       " (('Nora', 'Tessa'), 0.037904761904761906),\n",
       " (('Stella', 'Ward'), 0.037777777777777785),\n",
       " (('Chloe', 'Nora'), 0.0367936507936508),\n",
       " (('Grace', 'Yves'), 0.03650553150553151),\n",
       " (('Grace', 'Kyle'), 0.03596079846079846),\n",
       " (('Owen', 'Quinn'), 0.0335),\n",
       " (('Quinn', 'Zelda'), 0.03277272727272727),\n",
       " (('David', 'Jim'), 0.030759259259259257),\n",
       " (('Kyle', 'Zelda'), 0.02918855218855219),\n",
       " (('Quinn', 'Ward'), 0.025574074074074075),\n",
       " (('Yves', 'Zelda'), 0.025272727272727273),\n",
       " (('Frank', 'Jim'), 0.022611111111111106),\n",
       " (('Ivy', 'Pat'), 0.022568783068783075),\n",
       " (('David', 'Hank'), 0.022253968253968255),\n",
       " (('David', 'Tessa'), 0.02215632515632516),\n",
       " (('Ivy', 'Riley'), 0.021841269841269845),\n",
       " (('Quinn', 'Yves'), 0.021166666666666667),\n",
       " (('Chloe', 'David'), 0.021045214045214044),\n",
       " (('Ward', 'Yves'), 0.020833333333333336),\n",
       " (('Alex', 'Frank'), 0.02043939393939394),\n",
       " (('Chloe', 'Frank'), 0.020193362193362197),\n",
       " (('Chloe', 'Ursula'), 0.019725348725348726),\n",
       " (('Pat', 'Quinn'), 0.019685185185185184),\n",
       " (('Grace', 'Ward'), 0.018410052910052908),\n",
       " (('Tessa', 'Ursula'), 0.016947570947570944),\n",
       " (('Frank', 'Tessa'), 0.01686002886002886),\n",
       " (('Grace', 'Zelda'), 0.016743386243386244),\n",
       " (('Grace', 'Ivy'), 0.015611111111111119),\n",
       " (('Chloe', 'Hank'), 0.013888888888888888),\n",
       " (('Alex', 'Ursula'), 0.01330976430976431),\n",
       " (('Ivy', 'Owen'), 0.012277777777777778),\n",
       " (('Pat', 'Yves'), 0.012222222222222223),\n",
       " (('Grace', 'Pat'), 0.011743386243386243),\n",
       " (('Chloe', 'Jim'), 0.010944444444444446),\n",
       " (('Alex', 'Jim'), 0.010481481481481482),\n",
       " (('Jim', 'Tessa'), 0.009277777777777777),\n",
       " (('Pat', 'Zelda'), 0.008333333333333333),\n",
       " (('Pat', 'Ward'), 0.006666666666666667),\n",
       " (('Alex', 'Chloe'), 0.006203703703703704),\n",
       " (('Ward', 'Zelda'), 0.005),\n",
       " (('Alex', 'Tessa'), 0.004537037037037037),\n",
       " (('Chloe', 'Tessa'), 0.0044444444444444444)]"
      ]
     },
     "execution_count": 35,
     "metadata": {},
     "output_type": "execute_result"
    }
   ],
   "source": [
    "GBCEdge = nx.edge_betweenness_centrality(G, normalized=True)\n",
    "sorted(GBCEdge.items(), key=operator.itemgetter(1), reverse = True)"
   ]
  },
  {
   "cell_type": "markdown",
   "id": "6b0a0982",
   "metadata": {},
   "source": [
    "10.\tWhich members are usually excluded from gatherings"
   ]
  },
  {
   "cell_type": "code",
   "execution_count": 36,
   "id": "03a818f9",
   "metadata": {},
   "outputs": [
    {
     "data": {
      "text/plain": [
       "{'Alex': 0.25,\n",
       " 'Ben': 0.041666666666666664,\n",
       " 'Chloe': 0.3333333333333333,\n",
       " 'David': 0.29166666666666663,\n",
       " 'Emma': 0.125,\n",
       " 'Frank': 0.25,\n",
       " 'Grace': 0.3333333333333333,\n",
       " 'Hank': 0.125,\n",
       " 'Ivy': 0.20833333333333331,\n",
       " 'Jim': 0.20833333333333331,\n",
       " 'Kyle': 0.125,\n",
       " 'Leah': 0.041666666666666664,\n",
       " 'Mike': 0.125,\n",
       " 'Nora': 0.4583333333333333,\n",
       " 'Owen': 0.125,\n",
       " 'Pat': 0.29166666666666663,\n",
       " 'Quinn': 0.3333333333333333,\n",
       " 'Riley': 0.08333333333333333,\n",
       " 'Stella': 0.08333333333333333,\n",
       " 'Tessa': 0.29166666666666663,\n",
       " 'Ursula': 0.20833333333333331,\n",
       " 'Victor': 0.125,\n",
       " 'Ward': 0.29166666666666663,\n",
       " 'Yves': 0.41666666666666663,\n",
       " 'Zelda': 0.3333333333333333}"
      ]
     },
     "execution_count": 36,
     "metadata": {},
     "output_type": "execute_result"
    }
   ],
   "source": [
    "nx.degree_centrality(G)"
   ]
  },
  {
   "cell_type": "code",
   "execution_count": 37,
   "id": "78eefa44",
   "metadata": {},
   "outputs": [
    {
     "name": "stdout",
     "output_type": "stream",
     "text": [
      "[('Ben', 0.041666666666666664), ('Leah', 0.041666666666666664), ('Riley', 0.08333333333333333), ('Stella', 0.08333333333333333), ('Emma', 0.125), ('Hank', 0.125), ('Kyle', 0.125), ('Mike', 0.125), ('Owen', 0.125), ('Victor', 0.125), ('Ivy', 0.20833333333333331), ('Jim', 0.20833333333333331), ('Ursula', 0.20833333333333331), ('Alex', 0.25), ('Frank', 0.25), ('David', 0.29166666666666663), ('Pat', 0.29166666666666663), ('Tessa', 0.29166666666666663), ('Ward', 0.29166666666666663), ('Chloe', 0.3333333333333333), ('Grace', 0.3333333333333333), ('Quinn', 0.3333333333333333), ('Zelda', 0.3333333333333333), ('Yves', 0.41666666666666663), ('Nora', 0.4583333333333333)]\n"
     ]
    }
   ],
   "source": [
    "sorted_degree_centrality = sorted(degree_centrality.items(), key=lambda x: x[1])\n",
    "print(sorted_degree_centrality)"
   ]
  },
  {
   "cell_type": "markdown",
   "id": "b2c1eacc",
   "metadata": {},
   "source": [
    "# Network Analysis "
   ]
  },
  {
   "cell_type": "markdown",
   "id": "e9d2d272",
   "metadata": {},
   "source": [
    "1.\tAdd the following columns to the data frame you created from classmatesChar.csv."
   ]
  },
  {
   "cell_type": "code",
   "execution_count": 38,
   "id": "3f31342b",
   "metadata": {},
   "outputs": [
    {
     "name": "stdout",
     "output_type": "stream",
     "text": [
      "      Name  Gender  Attendance  Closeness Centrality  Degree Centrality  \\\n",
      "0     Alex       1          12              0.452830           0.250000   \n",
      "1      Ben       0           6              0.282353           0.041667   \n",
      "2    Chloe       1          11              0.480000           0.333333   \n",
      "3    David       0          13              0.521739           0.291667   \n",
      "4     Emma       1           9              0.387097           0.125000   \n",
      "5    Frank       0          11              0.500000           0.250000   \n",
      "6    Grace       1          12              0.489796           0.333333   \n",
      "7     Hank       0           8              0.428571           0.125000   \n",
      "8      Ivy       1          13              0.421053           0.208333   \n",
      "9      Jim       0           8              0.406780           0.208333   \n",
      "10    Kyle       0          12              0.406780           0.125000   \n",
      "11    Leah       1           7              0.292683           0.041667   \n",
      "12    Mike       0           7              0.406780           0.125000   \n",
      "13    Nora       1          13              0.600000           0.458333   \n",
      "14    Owen       0          10              0.421053           0.125000   \n",
      "15     Pat       1          11              0.521739           0.291667   \n",
      "16   Quinn       0          11              0.558140           0.333333   \n",
      "17   Riley       1           9              0.342857           0.083333   \n",
      "18  Stella       1           8              0.358209           0.083333   \n",
      "19   Tessa       1          10              0.470588           0.291667   \n",
      "20  Ursula       1           7              0.444444           0.208333   \n",
      "21  Victor       0          10              0.461538           0.125000   \n",
      "22    Ward       0          11              0.521739           0.291667   \n",
      "23    Yves       0          12              0.600000           0.416667   \n",
      "24   Zelda       1           9              0.533333           0.333333   \n",
      "\n",
      "    Betweenness Centrality  Eigenvector Centrality  \n",
      "0                 0.011166                0.191667  \n",
      "1                 0.000000                0.008481  \n",
      "2                 0.028934                0.233442  \n",
      "3                 0.144978                0.207766  \n",
      "4                 0.084239                0.057656  \n",
      "5                 0.098894                0.175705  \n",
      "6                 0.088004                0.266241  \n",
      "7                 0.000000                0.118008  \n",
      "8                 0.023257                0.158226  \n",
      "9                 0.002214                0.151054  \n",
      "10                0.015045                0.106615  \n",
      "11                0.000000                0.008513  \n",
      "12                0.085145                0.057870  \n",
      "13                0.233785                0.361033  \n",
      "14                0.002959                0.113779  \n",
      "15                0.024937                0.290860  \n",
      "16                0.178837                0.272927  \n",
      "17                0.000000                0.062438  \n",
      "18                0.000000                0.084811  \n",
      "19                0.017461                0.218310  \n",
      "20                0.030330                0.163436  \n",
      "21                0.041304                0.111977  \n",
      "22                0.044488                0.281445  \n",
      "23                0.179041                0.342341  \n",
      "24                0.070779                0.295117  \n"
     ]
    }
   ],
   "source": [
    "closeness_centrality = nx.closeness_centrality(G)\n",
    "degree_centrality = nx.degree_centrality(G)\n",
    "betweenness_centrality = nx.betweenness_centrality(G)\n",
    "eigenvector_centrality = nx.eigenvector_centrality(G)\n",
    "\n",
    "\n",
    "CMChar['Closeness Centrality'] = CMChar['Name'].map(closeness_centrality)\n",
    "CMChar['Degree Centrality'] = CMChar['Name'].map(degree_centrality)\n",
    "CMChar['Betweenness Centrality'] = CMChar['Name'].map(betweenness_centrality)\n",
    "CMChar['Eigenvector Centrality'] = CMChar['Name'].map(eigenvector_centrality)\n",
    "\n",
    "\n",
    "print(CMChar)"
   ]
  },
  {
   "cell_type": "markdown",
   "id": "31094aea",
   "metadata": {},
   "source": [
    "2.\t Using linear regression, argue what the relationship between students’ characteristics and different centrality measures is. Is there any statistically significant relationship? "
   ]
  },
  {
   "cell_type": "code",
   "execution_count": 67,
   "id": "cd99241c",
   "metadata": {},
   "outputs": [],
   "source": [
    "predictors = ['Attendance','Gender']\n",
    "outcome1 = 'Closeness Centrality'\n",
    "outcome2 = 'Degree Centrality'\n",
    "outcome3 = 'Betweenness Centrality'\n",
    "outcome4 = 'Eigenvector Centrality'"
   ]
  },
  {
   "cell_type": "code",
   "execution_count": 68,
   "id": "fa29dbb5",
   "metadata": {},
   "outputs": [
    {
     "data": {
      "text/html": [
       "<div>\n",
       "<style scoped>\n",
       "    .dataframe tbody tr th:only-of-type {\n",
       "        vertical-align: middle;\n",
       "    }\n",
       "\n",
       "    .dataframe tbody tr th {\n",
       "        vertical-align: top;\n",
       "    }\n",
       "\n",
       "    .dataframe thead th {\n",
       "        text-align: right;\n",
       "    }\n",
       "</style>\n",
       "<table border=\"1\" class=\"dataframe\">\n",
       "  <thead>\n",
       "    <tr style=\"text-align: right;\">\n",
       "      <th></th>\n",
       "      <th>Attendance</th>\n",
       "      <th>Gender</th>\n",
       "    </tr>\n",
       "  </thead>\n",
       "  <tbody>\n",
       "    <tr>\n",
       "      <th>0</th>\n",
       "      <td>12</td>\n",
       "      <td>1</td>\n",
       "    </tr>\n",
       "    <tr>\n",
       "      <th>1</th>\n",
       "      <td>6</td>\n",
       "      <td>0</td>\n",
       "    </tr>\n",
       "    <tr>\n",
       "      <th>2</th>\n",
       "      <td>11</td>\n",
       "      <td>1</td>\n",
       "    </tr>\n",
       "    <tr>\n",
       "      <th>3</th>\n",
       "      <td>13</td>\n",
       "      <td>0</td>\n",
       "    </tr>\n",
       "    <tr>\n",
       "      <th>4</th>\n",
       "      <td>9</td>\n",
       "      <td>1</td>\n",
       "    </tr>\n",
       "  </tbody>\n",
       "</table>\n",
       "</div>"
      ],
      "text/plain": [
       "   Attendance  Gender\n",
       "0          12       1\n",
       "1           6       0\n",
       "2          11       1\n",
       "3          13       0\n",
       "4           9       1"
      ]
     },
     "execution_count": 68,
     "metadata": {},
     "output_type": "execute_result"
    }
   ],
   "source": [
    "pd.get_dummies(CMChar[predictors], drop_first=True).head()"
   ]
  },
  {
   "cell_type": "code",
   "execution_count": 73,
   "id": "9a87301d",
   "metadata": {},
   "outputs": [
    {
     "name": "stdout",
     "output_type": "stream",
     "text": [
      "                   Results: Ordinary least squares\n",
      "======================================================================\n",
      "Model:              OLS                  Adj. R-squared:     0.434    \n",
      "Dependent Variable: Closeness Centrality AIC:                -64.3724 \n",
      "Date:               2023-04-10 20:44     BIC:                -60.7158 \n",
      "No. Observations:   25                   Log-Likelihood:     35.186   \n",
      "Df Model:           2                    F-statistic:        10.19    \n",
      "Df Residuals:       22                   Prob (F-statistic): 0.000736 \n",
      "R-squared:          0.481                Scale:              0.0039861\n",
      "------------------------------------------------------------------------\n",
      "                 Coef.    Std.Err.      t      P>|t|     [0.025   0.975]\n",
      "------------------------------------------------------------------------\n",
      "const            0.1869     0.0635    2.9414   0.0076    0.0551   0.3186\n",
      "Attendance       0.0275     0.0061    4.4819   0.0002    0.0148   0.0402\n",
      "Gender          -0.0183     0.0253   -0.7231   0.4772   -0.0707   0.0342\n",
      "----------------------------------------------------------------------\n",
      "Omnibus:                0.452          Durbin-Watson:            1.426\n",
      "Prob(Omnibus):          0.798          Jarque-Bera (JB):         0.557\n",
      "Skew:                   -0.014         Prob(JB):                 0.757\n",
      "Kurtosis:               2.269          Condition No.:            52   \n",
      "======================================================================\n",
      "\n"
     ]
    }
   ],
   "source": [
    "#build the first linear regression between students’ characteristics and Closeness Centrality\n",
    "X = pd.get_dummies(CMChar[predictors], drop_first=True)\n",
    "y = CMChar[outcome1]\n",
    "from sklearn.model_selection import train_test_split\n",
    "from sklearn.linear_model import LinearRegression\n",
    "CMCharLM = LinearRegression()\n",
    "CMCharLM.fit(X, y)\n",
    "import statsmodels.api as sm\n",
    "X = sm.add_constant(X)\n",
    "model = sm.OLS(y, X, missing='drop')\n",
    "results = model.fit()\n",
    "print(results.summary2())"
   ]
  },
  {
   "cell_type": "code",
   "execution_count": 76,
   "id": "2f946048",
   "metadata": {},
   "outputs": [
    {
     "name": "stdout",
     "output_type": "stream",
     "text": [
      "                  Results: Ordinary least squares\n",
      "===================================================================\n",
      "Model:              OLS               Adj. R-squared:     0.417    \n",
      "Dependent Variable: Degree Centrality AIC:                -47.3052 \n",
      "Date:               2023-04-10 20:48  BIC:                -43.6486 \n",
      "No. Observations:   25                Log-Likelihood:     26.653   \n",
      "Df Model:           2                 F-statistic:        9.580    \n",
      "Df Residuals:       22                Prob (F-statistic): 0.00102  \n",
      "R-squared:          0.466             Scale:              0.0078893\n",
      "---------------------------------------------------------------------\n",
      "              Coef.    Std.Err.      t      P>|t|     [0.025   0.975]\n",
      "---------------------------------------------------------------------\n",
      "const        -0.1633     0.0894   -1.8270   0.0813   -0.3486   0.0221\n",
      "Attendance    0.0371     0.0086    4.3000   0.0003    0.0192   0.0550\n",
      "Gender        0.0232     0.0356    0.6510   0.5218   -0.0506   0.0970\n",
      "-------------------------------------------------------------------\n",
      "Omnibus:               2.260         Durbin-Watson:           1.918\n",
      "Prob(Omnibus):         0.323         Jarque-Bera (JB):        1.164\n",
      "Skew:                  -0.073        Prob(JB):                0.559\n",
      "Kurtosis:              1.953         Condition No.:           52   \n",
      "===================================================================\n",
      "\n"
     ]
    }
   ],
   "source": [
    "#build the second linear regression between students’ characteristics and Degree Centrality\n",
    "X = pd.get_dummies(CMChar[predictors], drop_first=True)\n",
    "y = CMChar[outcome2]\n",
    "CMCharLM = LinearRegression()\n",
    "CMCharLM.fit(X, y)\n",
    "import statsmodels.api as sm\n",
    "X = sm.add_constant(X)\n",
    "model = sm.OLS(y, X, missing='drop')\n",
    "results = model.fit()\n",
    "print(results.summary2())"
   ]
  },
  {
   "cell_type": "code",
   "execution_count": 77,
   "id": "3baea474",
   "metadata": {},
   "outputs": [
    {
     "name": "stdout",
     "output_type": "stream",
     "text": [
      "                    Results: Ordinary least squares\n",
      "========================================================================\n",
      "Model:              OLS                    Adj. R-squared:     0.210    \n",
      "Dependent Variable: Betweenness Centrality AIC:                -67.9969 \n",
      "Date:               2023-04-10 20:48       BIC:                -64.3402 \n",
      "No. Observations:   25                     Log-Likelihood:     36.998   \n",
      "Df Model:           2                      F-statistic:        4.199    \n",
      "Df Residuals:       22                     Prob (F-statistic): 0.0285   \n",
      "R-squared:          0.276                  Scale:              0.0034481\n",
      "---------------------------------------------------------------------------\n",
      "               Coef.     Std.Err.       t       P>|t|      [0.025    0.975]\n",
      "---------------------------------------------------------------------------\n",
      "const         -0.0915      0.0591    -1.5485    0.1358    -0.2140    0.0310\n",
      "Attendance     0.0159      0.0057     2.7838    0.0108     0.0041    0.0277\n",
      "Gender        -0.0215      0.0235    -0.9129    0.3712    -0.0703    0.0273\n",
      "------------------------------------------------------------------------\n",
      "Omnibus:                 2.757          Durbin-Watson:             1.771\n",
      "Prob(Omnibus):           0.252          Jarque-Bera (JB):          2.029\n",
      "Skew:                    0.695          Prob(JB):                  0.363\n",
      "Kurtosis:                2.882          Condition No.:             52   \n",
      "========================================================================\n",
      "\n"
     ]
    }
   ],
   "source": [
    "#build the third linear regression between students’ characteristics and Betweenness Centrality\n",
    "X = pd.get_dummies(CMChar[predictors], drop_first=True)\n",
    "y = CMChar[outcome3]\n",
    "CMCharLM = LinearRegression()\n",
    "CMCharLM.fit(X, y)\n",
    "import statsmodels.api as sm\n",
    "X = sm.add_constant(X)\n",
    "model = sm.OLS(y, X, missing='drop')\n",
    "results = model.fit()\n",
    "print(results.summary2())"
   ]
  },
  {
   "cell_type": "code",
   "execution_count": 78,
   "id": "1051bdef",
   "metadata": {},
   "outputs": [
    {
     "name": "stdout",
     "output_type": "stream",
     "text": [
      "                    Results: Ordinary least squares\n",
      "========================================================================\n",
      "Model:              OLS                    Adj. R-squared:     0.400    \n",
      "Dependent Variable: Eigenvector Centrality AIC:                -53.4517 \n",
      "Date:               2023-04-10 20:48       BIC:                -49.7950 \n",
      "No. Observations:   25                     Log-Likelihood:     29.726   \n",
      "Df Model:           2                      F-statistic:        8.991    \n",
      "Df Residuals:       22                     Prob (F-statistic): 0.00140  \n",
      "R-squared:          0.450                  Scale:              0.0061697\n",
      "---------------------------------------------------------------------------\n",
      "               Coef.     Std.Err.       t       P>|t|      [0.025    0.975]\n",
      "---------------------------------------------------------------------------\n",
      "const         -0.1545      0.0790    -1.9544    0.0635    -0.3184    0.0094\n",
      "Attendance     0.0319      0.0076     4.1842    0.0004     0.0161    0.0478\n",
      "Gender         0.0165      0.0315     0.5253    0.6046    -0.0487    0.0818\n",
      "------------------------------------------------------------------------\n",
      "Omnibus:                 2.173          Durbin-Watson:             1.602\n",
      "Prob(Omnibus):           0.337          Jarque-Bera (JB):          1.169\n",
      "Skew:                    0.123          Prob(JB):                  0.557\n",
      "Kurtosis:                1.969          Condition No.:             52   \n",
      "========================================================================\n",
      "\n"
     ]
    }
   ],
   "source": [
    "#build the fourth linear regression between students’ characteristics and Eigenvector Centrality \n",
    "X = pd.get_dummies(CMChar[predictors], drop_first=True)\n",
    "y = CMChar[outcome4]\n",
    "CMCharLM = LinearRegression()\n",
    "CMCharLM.fit(X, y)\n",
    "import statsmodels.api as sm\n",
    "X = sm.add_constant(X)\n",
    "model = sm.OLS(y, X, missing='drop')\n",
    "results = model.fit()\n",
    "print(results.summary2())"
   ]
  },
  {
   "cell_type": "code",
   "execution_count": null,
   "id": "25eb5c65",
   "metadata": {},
   "outputs": [],
   "source": []
  }
 ],
 "metadata": {
  "kernelspec": {
   "display_name": "Python 3 (ipykernel)",
   "language": "python",
   "name": "python3"
  },
  "language_info": {
   "codemirror_mode": {
    "name": "ipython",
    "version": 3
   },
   "file_extension": ".py",
   "mimetype": "text/x-python",
   "name": "python",
   "nbconvert_exporter": "python",
   "pygments_lexer": "ipython3",
   "version": "3.9.12"
  }
 },
 "nbformat": 4,
 "nbformat_minor": 5
}
